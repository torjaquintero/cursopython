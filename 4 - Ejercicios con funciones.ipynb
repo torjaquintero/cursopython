{
 "cells": [
  {
   "cell_type": "code",
   "execution_count": 28,
   "id": "ca9814af",
   "metadata": {},
   "outputs": [
    {
     "name": "stdout",
     "output_type": "stream",
     "text": [
      "1. Ingrese nombre de cliente\n",
      "2. Ingrese numero de cedula\n",
      "3. Ingresa numero de telefono\n",
      "4. Salir del programa\n"
     ]
    }
   ],
   "source": [
    "def imprimirMenu():\n",
    "    opc1 = '1. Ingrese nombre de cliente'\n",
    "    opc2 = '2. Ingrese numero de cedula'\n",
    "    opc3 = '3. Ingresa numero de telefono'\n",
    "    opc4 = '4. Salir del programa'\n",
    "\n",
    "    menu = [opc1, opc2, opc3, opc4]\n",
    "\n",
    "    for i in range(len(menu)):\n",
    "        print(menu[i])\n",
    "    \n",
    "\n",
    "imprimirMenu()"
   ]
  },
  {
   "cell_type": "code",
   "execution_count": 34,
   "id": "709f05a9",
   "metadata": {},
   "outputs": [
    {
     "name": "stdout",
     "output_type": "stream",
     "text": [
      "1. Ingrese nombre de cliente\n",
      "2. Ingrese numero de cedula\n",
      "3. Ingresa numero de telefono\n",
      "4. Salir del programa\n",
      "Elija una opcion: 1\n",
      "Usted a elegido la opcion 1\n",
      "Cual es su nombre: martha\n"
     ]
    }
   ],
   "source": [
    "imprimirMenu()\n",
    "\n",
    "listaCliente = []\n",
    "\n",
    "opcion = int(input('Elija una opcion: '))\n",
    "\n",
    "\n",
    "if opcion == 1:\n",
    "    print('Usted a elegido la opcion 1')\n",
    "    \n",
    "    #Ingreso de nombre de cliente\n",
    "    \n",
    "    nombreCliente = input('Cual es su nombre: ')\n",
    "    \n",
    "    listaCliente.append(nombreCliente)\n",
    "    \n",
    "    \n",
    "elif opcion == 2:\n",
    "    print('Usted a elegido la opcion 2')\n",
    "elif opcion == 3:\n",
    "    print('Usted a elegido la opcion 3')\n",
    "elif opcion == 4:\n",
    "    print('Hasta pronto')\n",
    "else:\n",
    "    print('Opcion no disponible')"
   ]
  },
  {
   "cell_type": "code",
   "execution_count": 10,
   "id": "83e0ac4c",
   "metadata": {},
   "outputs": [
    {
     "name": "stdout",
     "output_type": "stream",
     "text": [
      "1 Ingresar cliente\n",
      "2 Hacer factura\n",
      "3 salir\n",
      "Elija una opcion del menu: 1\n",
      "Opcion 1\n",
      "1 Ingresar cliente\n",
      "2 Hacer factura\n",
      "3 salir\n",
      "Elija una opcion del menu: 3\n"
     ]
    }
   ],
   "source": [
    "def menu():\n",
    "    opcion1 = 'Ingresar cliente'\n",
    "    opcion2 = 'Hacer factura'\n",
    "    opcion3 = 'salir'\n",
    "    \n",
    "    menu = [opcion1, opcion2, opcion3]\n",
    "    longitudMenu = len(menu)\n",
    "    \n",
    "    for i in range(longitudMenu):\n",
    "        numeracion = i+1\n",
    "        print(numeracion, menu[i])\n",
    "\n",
    "intento = 0\n",
    "\n",
    "while intento < 4:\n",
    "    menu()\n",
    "    opcion = int(input('Elija una opcion del menu: '))\n",
    "    \n",
    "    if opcion > 0 and opcion < 4:\n",
    "        if opcion == 1:\n",
    "            print('Opcion 1')\n",
    "        elif opcion == 2:\n",
    "            print('Opcion 2')\n",
    "        elif opcion == 3:\n",
    "            break\n",
    "        \n",
    "    else:\n",
    "        intento += 1\n",
    "        print('Opcion incorrecta')\n",
    "        "
   ]
  },
  {
   "cell_type": "code",
   "execution_count": null,
   "id": "30d021aa",
   "metadata": {},
   "outputs": [],
   "source": []
  }
 ],
 "metadata": {
  "kernelspec": {
   "display_name": "Python 3",
   "language": "python",
   "name": "python3"
  },
  "language_info": {
   "codemirror_mode": {
    "name": "ipython",
    "version": 3
   },
   "file_extension": ".py",
   "mimetype": "text/x-python",
   "name": "python",
   "nbconvert_exporter": "python",
   "pygments_lexer": "ipython3",
   "version": "3.8.8"
  }
 },
 "nbformat": 4,
 "nbformat_minor": 5
}
