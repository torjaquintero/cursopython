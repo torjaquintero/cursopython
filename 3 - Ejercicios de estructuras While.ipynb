{
 "cells": [
  {
   "cell_type": "code",
   "execution_count": 1,
   "id": "fcb47ff7",
   "metadata": {},
   "outputs": [
    {
     "name": "stdout",
     "output_type": "stream",
     "text": [
      "0\n",
      "1\n",
      "2\n",
      "3\n",
      "4\n",
      "5\n",
      "6\n",
      "7\n",
      "8\n",
      "9\n",
      "10\n"
     ]
    }
   ],
   "source": [
    "contador = 0\n",
    "while contador <= 10:\n",
    "    print(contador)\n",
    "    contador += 1"
   ]
  },
  {
   "cell_type": "code",
   "execution_count": 2,
   "id": "f16f45e1",
   "metadata": {},
   "outputs": [
    {
     "name": "stdout",
     "output_type": "stream",
     "text": [
      "10\n",
      "9\n",
      "8\n",
      "7\n",
      "6\n",
      "5\n",
      "4\n",
      "3\n",
      "2\n",
      "1\n",
      "0\n"
     ]
    }
   ],
   "source": [
    "contador = 10\n",
    "while contador >= 0:\n",
    "    print(contador)\n",
    "    contador -= 1"
   ]
  },
  {
   "cell_type": "markdown",
   "id": "f0753078",
   "metadata": {},
   "source": [
    "# Ejemplo No. 1\n",
    "## Programa que "
   ]
  },
  {
   "cell_type": "code",
   "execution_count": 40,
   "id": "e1d9760e",
   "metadata": {},
   "outputs": [
    {
     "name": "stdout",
     "output_type": "stream",
     "text": [
      "Desea parar si/no: si\n",
      "Se salio del bucle\n"
     ]
    }
   ],
   "source": [
    "while True:\n",
    "    respuesta = input('Desea parar si/no: ')\n",
    "    \n",
    "    if respuesta == 'si':\n",
    "        break\n",
    "    else:\n",
    "        print('continua en el bucle')\n",
    "\n",
    "print('Se salio del bucle')"
   ]
  },
  {
   "cell_type": "markdown",
   "id": "23579a04",
   "metadata": {},
   "source": [
    "## Ejemplo No. 2\n",
    "## Programa que "
   ]
  },
  {
   "cell_type": "code",
   "execution_count": 2,
   "id": "932bc05f",
   "metadata": {},
   "outputs": [
    {
     "name": "stdout",
     "output_type": "stream",
     "text": [
      "0\n",
      "1\n",
      "2\n",
      "3\n",
      "4\n"
     ]
    }
   ],
   "source": [
    "# mientras, se cumpla una condicion... ejecute un codigo\n",
    "\n",
    "contador = 0\n",
    "\n",
    "while contador < 11:\n",
    "    print(contador)\n",
    "    contador += 1 #Esto es igual a contador = contador + 1\n",
    "    \n",
    "    if contador == 5:\n",
    "        break\n",
    "    "
   ]
  },
  {
   "cell_type": "markdown",
   "id": "0ba06a8b",
   "metadata": {},
   "source": [
    "# Ejemplo No. 3\n",
    "## Programa que "
   ]
  },
  {
   "cell_type": "code",
   "execution_count": 3,
   "id": "92573af4",
   "metadata": {},
   "outputs": [
    {
     "name": "stdout",
     "output_type": "stream",
     "text": [
      "Digite el nombre del amigo: Juan\n",
      "Desea ingresar otro amigo? s/ns\n",
      "Digite el nombre del amigo: Pedro\n",
      "Desea ingresar otro amigo? s/ns\n",
      "Digite el nombre del amigo: Lina\n",
      "Desea ingresar otro amigo? s/ns\n",
      "Digite el nombre del amigo: Martha\n",
      "Desea ingresar otro amigo? s/ny\n",
      "['Juan', 'Pedro', 'Lina', 'Martha']\n"
     ]
    }
   ],
   "source": [
    "listaAmigos = []\n",
    "\n",
    "\n",
    "\n",
    "while True:\n",
    "    nombre = input('Digite el nombre del amigo: ')\n",
    "    \n",
    "    listaAmigos.append(nombre)\n",
    "    \n",
    "    respuesta = input('Desea ingresar otro amigo? s/n')\n",
    "    \n",
    "    if respuesta == 's':\n",
    "        None\n",
    "    else:\n",
    "        break\n",
    "    \n",
    "\n",
    "print(listaAmigos)"
   ]
  },
  {
   "cell_type": "markdown",
   "id": "49d966ad",
   "metadata": {},
   "source": [
    "# Ejemplo No. 4\n",
    "## Programa que "
   ]
  },
  {
   "cell_type": "code",
   "execution_count": 3,
   "id": "5da9a0ee",
   "metadata": {},
   "outputs": [
    {
     "name": "stdout",
     "output_type": "stream",
     "text": [
      "Digite su nombre de usuario: js\n",
      "Usted acumula  1 intentos fallidos\n",
      "Digite su nombre de usuario: gt\n",
      "Usted acumula  2 intentos fallidos\n",
      "Digite su nombre de usuario: gb\n",
      "Usted acumula  3 intentos fallidos\n"
     ]
    }
   ],
   "source": [
    "usuarioGuardado = 'hquintero'\n",
    "\n",
    "intentosFallidos = 0\n",
    "\n",
    "while intentosFallidos < 3:\n",
    "    usuario = input('Digite su nombre de usuario: ')\n",
    "    if usuario == usuarioGuardado:\n",
    "        print('Usuario correcto')\n",
    "    else:\n",
    "        intentosFallidos += 1\n",
    "        print('Usted acumula ', intentosFallidos, 'intentos fallidos')"
   ]
  },
  {
   "cell_type": "markdown",
   "id": "c2409728",
   "metadata": {},
   "source": [
    "# Ejemplo No. 5\n",
    "## Programa que cuenta las votaciones en unas elecciones"
   ]
  },
  {
   "cell_type": "code",
   "execution_count": 1,
   "id": "0c935dbc",
   "metadata": {},
   "outputs": [],
   "source": [
    "candidato1 = 0\n",
    "candidato2 = 0\n",
    "candidato3 = 0\n",
    "candidato4 = 0\n",
    "\n",
    "print('Elecciones generales')\n",
    "print('')\n"
   ]
  }
 ],
 "metadata": {
  "kernelspec": {
   "display_name": "Python 3",
   "language": "python",
   "name": "python3"
  },
  "language_info": {
   "codemirror_mode": {
    "name": "ipython",
    "version": 3
   },
   "file_extension": ".py",
   "mimetype": "text/x-python",
   "name": "python",
   "nbconvert_exporter": "python",
   "pygments_lexer": "ipython3",
   "version": "3.8.8"
  }
 },
 "nbformat": 4,
 "nbformat_minor": 5
}
