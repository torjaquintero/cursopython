{
 "cells": [
  {
   "cell_type": "markdown",
   "id": "949a73a3",
   "metadata": {},
   "source": [
    "# Ejemplo No. 1\n",
    "\n",
    "## Este programa imprime en pantalla un saludo a los amigos guardados en una tupla"
   ]
  },
  {
   "cell_type": "code",
   "execution_count": null,
   "id": "e31820f8",
   "metadata": {},
   "outputs": [
    {
     "name": "stdout",
     "output_type": "stream",
     "text": [
      "Hola Marta  bienvenid@ al curso\n",
      "Hola Juan  bienvenid@ al curso\n",
      "Hola Fabio  bienvenid@ al curso\n"
     ]
    }
   ],
   "source": [
    "#Una tupla es un tipo de variable que almacena\n",
    "#varios elementos de cualquier tipo de dato\n",
    "tuplaAmigos = ('Marta', 'Juan', 'Fabio')\n",
    "\n",
    "#la instrucción for se repetirá tantas veces como\n",
    "#sea el número de elementos dentro de la tupla\n",
    "for nombre in tuplaAmigos:\n",
    "    #el iterador \"nombre\" asumirá el valor de \n",
    "    #cada posicion de memoria dentro de la tupla\n",
    "    print('Hola', nombre, ' bienvenid@ al curso')"
   ]
  },
  {
   "cell_type": "markdown",
   "id": "d9ab6028",
   "metadata": {},
   "source": [
    "# Ejemplo No. 2\n",
    "\n",
    "## Este programa imprime los números enteros que se encuentran almacenados en una lista"
   ]
  },
  {
   "cell_type": "code",
   "execution_count": null,
   "id": "8e4dc8c6",
   "metadata": {},
   "outputs": [
    {
     "name": "stdout",
     "output_type": "stream",
     "text": [
      "0\n",
      "1\n",
      "2\n",
      "3\n",
      "4\n",
      "5\n",
      "6\n",
      "7\n",
      "8\n",
      "9\n"
     ]
    }
   ],
   "source": [
    "#Una lista es un tipo de variable que almacena\n",
    "#varios elementos de cualquier tipo de dato.\n",
    "\n",
    "#A diferencia de las tuplas, las listas pueden\n",
    "#modificar su tamaño y su contenido\n",
    "\n",
    "#La lista \"numeros\" almacena 10 números enteros\n",
    "#en 10 posiciones de memoria\n",
    "numeros = [0, 1, 2, 3, 4, 5, 6, 7, 8, 9]\n",
    "\n",
    "#la función len() devuelve como valor, el número\n",
    "#de elementos que tiene almacenados\n",
    "elementos = len(numeros)\n",
    "\n",
    "#la variable \"iterable\" se incrementa en una unidad\n",
    "#hasta llegar al número de elementos que haya en la\n",
    "#lista \"numeros\"\n",
    "for iterable in range(elementos):\n",
    "    #imprime cada una de las posiciones de memoria \n",
    "    #que tiene la lista \"numeros\"\n",
    "    print(numeros[iterable])"
   ]
  },
  {
   "cell_type": "markdown",
   "id": "25607987",
   "metadata": {},
   "source": [
    "# Ejemplo No. 3\n",
    "\n",
    "## Este programa imprime en pantalla un menú de opciones para la gestíon de un hotel"
   ]
  },
  {
   "cell_type": "code",
   "execution_count": null,
   "id": "55646e19",
   "metadata": {},
   "outputs": [
    {
     "name": "stdout",
     "output_type": "stream",
     "text": [
      "Software de gestión de un hotel\n",
      "1 Registrar un nuevo huesped\n",
      "2 Mostrar huespedes por habitación\n",
      "3 Realizar check out\n",
      "4 Ingresar pedido de room service\n",
      "Elija una opcion: 1\n"
     ]
    }
   ],
   "source": [
    "#Imprime un saludo de bienvenida \n",
    "print('Software de gestión de un hotel')\n",
    "\n",
    "#almacena en variables las opciones del menú\n",
    "opcion1 = 'Registrar un nuevo huesped'\n",
    "opcion2 = 'Mostrar huespedes por habitación'\n",
    "opcion3 = 'Realizar check out'\n",
    "opcion4 = 'Ingresar pedido de room service'\n",
    "\n",
    "#crea una lista llamada menú con todas las opciones\n",
    "menu = [opcion1, opcion2, opcion3, opcion4]\n",
    "\n",
    "#el iterador i recorre todas las posiciones de la\n",
    "#lista para imprimir el menú de opciones\n",
    "for i in range(len(menu)):\n",
    "    #como las posiciones de la lista se enumeran\n",
    "    #desde 0, se suma una unidad para que en pantalla\n",
    "    #se enumeren las opciones a partir de 1\n",
    "    print(i+1, menu[i])\n",
    "\n",
    "#se ingresa por teclado la opción elegida por el usuario\n",
    "eleccion = int(input('Elija una opcion: '))"
   ]
  },
  {
   "cell_type": "markdown",
   "id": "b707eadd",
   "metadata": {},
   "source": [
    "# Ejemplo No. 4\n",
    "\n",
    "## Programa que almacena en una lista los datos personales del usuario y luego los imprime en pantalla"
   ]
  },
  {
   "cell_type": "code",
   "execution_count": null,
   "id": "058abc00",
   "metadata": {},
   "outputs": [],
   "source": [
    "#Guarda en variables los textos con las peticiones de\n",
    "#datos al usuario y los guarda en la lista cuestionario\n",
    "pregunta1 = '1. Digite su nombre: '\n",
    "pregunta2 = '2. Digite su número de identificación: '\n",
    "pregunta3 = '3. Digite su número de teléfono: '\n",
    "cuestionario = [pregunta1, pregunta2, pregunta3]\n",
    "\n",
    "#crea una lista vacía para almacenar los datos de usuario\n",
    "datosPersonales = []\n",
    "\n",
    "#en cada iteración guarda el dato que pide cada elemento\n",
    "#de la lista cuestionario\n",
    "for i in range(len(cuestionario)):\n",
    "    dato = input(cuestionario[i])\n",
    "    #con el método .append se ingresa y almacena un dato\n",
    "    #en la lista datosPeronales\n",
    "    datosPersonales.append(dato) \n",
    "\n",
    "#recorre todas las posiciones de la lista de datos personales\n",
    "for i in range(len(datosPersonales)):\n",
    "    if i == 0: #imprime la posicion 0 correspondiente al nombre\n",
    "        print('Su nombre es: ', datosPersonales[i])\n",
    "    elif i == 1: #imprime la posicion 1 de la identificación\n",
    "        print('Su identificación es: ', datosPersonales[i])\n",
    "    else: #imprime la posicion 2 que corresponde al teléfono\n",
    "        print('Su teléfono es: ', datosPersonales[i])"
   ]
  },
  {
   "cell_type": "markdown",
   "id": "2dabbe2b",
   "metadata": {},
   "source": [
    "# Ejemplo No. 5\n",
    "## Programa que calcula la nómina para un número de empleados solicitado por el usuario y los guarda en una lista"
   ]
  },
  {
   "cell_type": "code",
   "execution_count": null,
   "id": "18aa8e6c",
   "metadata": {},
   "outputs": [],
   "source": [
    "salarioMinimo = 930000\n",
    "salud = 0.02\n",
    "pension = 0.03\n",
    "transporte = 0.1\n",
    "\n",
    "nomina = []\n",
    "empleado = []\n",
    "\n",
    "totalEmpleados = int(input('Digite el número de empleados en la nómina: '))\n",
    "\n",
    "for i in range(totalEmpleados):\n",
    "    print('Nómina para el empleado No.', i+1)\n",
    "    \n",
    "    nombre = input('Digite el nombre del empleado: ')\n",
    "    salarios = float(input('Digite el numero de salarios minimos que gana el empleado: '))\n",
    "    \n",
    "    sueldoBruto = (salarios * salarioMinimo)\n",
    "    \n",
    "    sueldoNeto = sueldoBruto - (sueldoBruto * salud) - (sueldoBruto * pension) + (sueldoBruto * transporte)\n",
    "    \n",
    "    print('El sueldo bruto que ganará el empleado No.', i+1, 'es: $', sueldoBruto)\n",
    "    print('El sueldo neto que ganará el empleado No.', i+1, 'es: $', sueldoNeto)\n",
    "\n",
    "                     "
   ]
  },
  {
   "cell_type": "markdown",
   "id": "b9ce2dc8",
   "metadata": {},
   "source": [
    "# Ejemplo No. 6\n",
    "## Programa de gestión de una agenda telefónica"
   ]
  },
  {
   "cell_type": "code",
   "execution_count": 26,
   "id": "07d66e48",
   "metadata": {},
   "outputs": [
    {
     "name": "stdout",
     "output_type": "stream",
     "text": [
      "1. Ingrese nombre de cliente\n",
      "2. Ingrese numero de cedula\n",
      "3. Ingresa numero de telefono\n",
      "4. Salir del programa\n",
      "Elija una opcion: 5\n",
      "Opcion no disponible\n"
     ]
    }
   ],
   "source": [
    "#almacena en variables las opciones del menú\n",
    "opcion1 = 'Guardar nuevo contacto'\n",
    "opcion2 = 'Editar contacto'\n",
    "opcion3 = 'Eliminar contacto'\n",
    "opcion4 = 'Salir'\n",
    "\n",
    "#guarda en la lista menú todas las opciones\n",
    "menu = [opcion1, opcion2, opcion3, opcion4]\n",
    "\n",
    "#el iterador i \n",
    "for i in range(len(menu)):\n",
    "    print(i+1, menu[i])\n",
    "\n",
    "eleccion = int(input('Elija una opcion: '))\n",
    "\n",
    "\n",
    "if opcion == 1:\n",
    "    print('Usted a elegido la opcion 1')\n",
    "elif opcion == 2:\n",
    "    print('Usted a elegido la opcion 2')\n",
    "elif opcion == 3:\n",
    "    print('Usted a elegido la opcion 3')\n",
    "elif opcion == 4:\n",
    "    print('Hasta pronto')\n",
    "else:\n",
    "    print('Opcion no disponible')\n"
   ]
  },
  {
   "cell_type": "code",
   "execution_count": null,
   "id": "d89a6e12",
   "metadata": {},
   "outputs": [],
   "source": []
  }
 ],
 "metadata": {
  "kernelspec": {
   "display_name": "Python 3 (ipykernel)",
   "language": "python",
   "name": "python3"
  },
  "language_info": {
   "codemirror_mode": {
    "name": "ipython",
    "version": 3
   },
   "file_extension": ".py",
   "mimetype": "text/x-python",
   "name": "python",
   "nbconvert_exporter": "python",
   "pygments_lexer": "ipython3",
   "version": "3.11.5"
  },
  "vscode": {
   "interpreter": {
    "hash": "eea576cd592b812cfdfc79615de6cf0b47776b8aa973d49f2b0c87b38603194a"
   }
  }
 },
 "nbformat": 4,
 "nbformat_minor": 5
}
