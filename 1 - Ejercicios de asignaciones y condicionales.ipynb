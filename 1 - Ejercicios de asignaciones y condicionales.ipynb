{
 "cells": [
  {
   "cell_type": "markdown",
   "id": "b5adf00f",
   "metadata": {},
   "source": [
    "# Ejemplo No. 1\n",
    "\n",
    "## Este programa imprime en pantalla un mensaje de texto"
   ]
  },
  {
   "cell_type": "code",
   "execution_count": 1,
   "id": "332eba82",
   "metadata": {},
   "outputs": [],
   "source": [
    "#Imprime un mensaje en pantalla"
   ]
  },
  {
   "cell_type": "code",
   "execution_count": 2,
   "id": "dbdf8586",
   "metadata": {},
   "outputs": [
    {
     "name": "stdout",
     "output_type": "stream",
     "text": [
      "Bienvenidos al curso de Python desde cero\n"
     ]
    }
   ],
   "source": [
    "print('Bienvenidos al curso de Python desde cero')"
   ]
  },
  {
   "cell_type": "markdown",
   "id": "19219b1d",
   "metadata": {},
   "source": [
    "# Ejemplo No.2\n",
    "\n",
    "## Este programa captura datos ingresados a través del teclado y los guarda en las variables nombre y numeroid para luego imprimirlos en pantalla "
   ]
  },
  {
   "cell_type": "code",
   "execution_count": 1,
   "id": "f92eae5f",
   "metadata": {
    "scrolled": false
   },
   "outputs": [
    {
     "name": "stdout",
     "output_type": "stream",
     "text": [
      "Digite su nombre: Juan\n",
      "Digite su numero de identificación: 765890\n",
      "\n",
      "El nombre del usuario es:  Juan\n",
      "El número de identificacion del usuario es :  765890\n"
     ]
    }
   ],
   "source": [
    "#ingresamos por teclado el nombre y la identificacion del usuario\n",
    "nombre = input('Digite su nombre: ')\n",
    "numeroid = input('Digite su numero de identificación: ')\n",
    "\n",
    "#muestra en pantalla el nombre y la identificacion del usuario\n",
    "print('\\nEl nombre del usuario es: ', nombre)\n",
    "print('El número de identificacion del usuario es : ', numeroid)"
   ]
  },
  {
   "cell_type": "markdown",
   "id": "62e1a1e0",
   "metadata": {},
   "source": [
    "# Ejemplo No. 3\n",
    "## Programa que captura dos datos numéricos por el teclado y luego los suma. El resultado de la operación lo muestra en pantalla"
   ]
  },
  {
   "cell_type": "code",
   "execution_count": 3,
   "id": "83029b9d",
   "metadata": {},
   "outputs": [
    {
     "name": "stdout",
     "output_type": "stream",
     "text": [
      "El resultado de la suma: 5 + 3 es:  8\n"
     ]
    }
   ],
   "source": [
    "#guardamos los numeros en dos variables numero1 y numero2\n",
    "#la instruccion int() asegura que el usuario ingrese un numero entero\n",
    "numero1 = int(input(\"Digite primer numero a sumar: \")\n",
    "numero2 = int(input(\"Digite primer numero a sumar: \")\n",
    "\n",
    "#el resultado de sumar los numeros se guarda en la variable suma \n",
    "suma = numero1 + numero2\n",
    "\n",
    "print('El resultado de la suma:', numero1, '+', numero2, 'es: ', suma)"
   ]
  },
  {
   "cell_type": "markdown",
   "id": "cbc91b58",
   "metadata": {},
   "source": [
    "# Ejemplo No. 4\n",
    "## Programa que captura la base y la altura  de un triangulo para hallar su área. El resultado de este cálculo lo muestra luego en pantalla"
   ]
  },
  {
   "cell_type": "code",
   "execution_count": 2,
   "id": "4a836aa4",
   "metadata": {},
   "outputs": [
    {
     "name": "stdout",
     "output_type": "stream",
     "text": [
      "Digite la base del triángulo: 34.6\n",
      "Digite la altura del triángulo: 23.8\n",
      "El área del triángulo es:  411.74 cm^2\n",
      "El área redondeada es:  411.74 cm^2\n"
     ]
    }
   ],
   "source": [
    "#guardamos la base y la altura del triángulo en variables\n",
    "#con float() permitimos ingresar números con decimales\n",
    "base = float(input(\"Digite la base del triángulo: \"))\n",
    "altura = float(input(\"Digite la altura del triángulo: \"))\n",
    "\n",
    "#calcula el area del triangulo y la imprime \n",
    "area = (base * altura) / 2\n",
    "print('El área del triángulo es: ', area, 'cm^2')\n",
    "\n",
    "#con round() para tener un número de maximo dos decimales\n",
    "area = round(area, 2)\n",
    "print('El área redondeada es: ', area, 'cm^2')"
   ]
  },
  {
   "cell_type": "markdown",
   "id": "071dd471",
   "metadata": {},
   "source": [
    "# Ejemplo No. 5\n",
    "\n",
    "## Programa que captura por el teclado tres notas de una asignatura. calcula el promedio y lo muestra en la pantalla"
   ]
  },
  {
   "cell_type": "code",
   "execution_count": 1,
   "id": "941102ce",
   "metadata": {},
   "outputs": [
    {
     "name": "stdout",
     "output_type": "stream",
     "text": [
      "Digite primer nota: 3.5\n",
      "Digite segunda nota: 2.1\n",
      "Digite tercer nota: 4.2\n",
      "El promedio de las notas es:  3.27\n"
     ]
    }
   ],
   "source": [
    "#Se capturan las notas en variables independientes\n",
    "\n",
    "nota1 = float(input('Digite primer nota: '))\n",
    "nota2 = float(input('Digite segunda nota: '))\n",
    "nota3 = float(input('Digite tercer nota: '))\n",
    "\n",
    "#Calcula el promedio de las notas\n",
    "#con round() se obtiene un número con dos decimales\n",
    "#la sintaxis es round(variable, numerodedecimales)\n",
    "promedio = round((nota1 + nota2 + nota3)/3, 2)\n",
    "\n",
    "#Imprime el resultado\n",
    "print('El promedio de las notas es: ', promedio)"
   ]
  },
  {
   "cell_type": "markdown",
   "id": "0e86fa9b",
   "metadata": {},
   "source": [
    "# Ejemplo No. 6\n",
    "\n",
    "\n",
    "### Programa que captura la edad de una persona y luego imprime en pantalla si es menor o mayor de edad"
   ]
  },
  {
   "cell_type": "code",
   "execution_count": 7,
   "id": "3f922331",
   "metadata": {},
   "outputs": [
    {
     "name": "stdout",
     "output_type": "stream",
     "text": [
      "Digite su nombre: Matías\n",
      "Cual es su edad: 1\n",
      "Matías  es menor de edad\n"
     ]
    }
   ],
   "source": [
    "#Captura el nombre de la persona\n",
    "nombre = input('Digite su nombre: ')\n",
    "\n",
    "#Captura la edad como número entero\n",
    "edad = int(input('Cual es su edad: '))\n",
    "\n",
    "#verifica si la edad es igual o mayor a 18\n",
    "if edad >= 18:\n",
    "    #si se cumple la condición\n",
    "    print(nombre, 'es mayor de edad')\n",
    "else:\n",
    "    #si no se cumple la condición\n",
    "    print(nombre, ' es menor de edad')"
   ]
  },
  {
   "cell_type": "markdown",
   "id": "a830a024",
   "metadata": {},
   "source": [
    "# Ejemplo No. 7\n",
    "## Programa que suma un bono de 15% al sueldo de un trabajador, siempre y cuando gane menos de 2 salarios mínimos"
   ]
  },
  {
   "cell_type": "code",
   "execution_count": 5,
   "id": "a0bbb197",
   "metadata": {},
   "outputs": [
    {
     "name": "stdout",
     "output_type": "stream",
     "text": [
      "Digite el nombre del trabajador: Alejandro\n",
      "Digite el sueldo del trabajador: 930000\n",
      "Tiene derecho a una bonificación!\n",
      "Su sueldo neto es: $ 1069500.0\n"
     ]
    }
   ],
   "source": [
    "#Captura por el teclado los datos del trabajador\n",
    "nombre = input('Digite el nombre del trabajador: ')\n",
    "\n",
    "#se declaran la variable salario mínimo\n",
    "salarioMinimo = 930000\n",
    "#se captura por teclado el sueldo\n",
    "sueldo = float(input('Digite el sueldo del trabajador: '))\n",
    "\n",
    "\"\"\"utilizamos if como condicional. En caso de que se cumpla\n",
    "    la condición de que el sueldo sea menor a dos salarios, \n",
    "    se tiene derecho a la bonificación\"\"\"\n",
    "\n",
    "if sueldo < (2 * salarioMinimo):\n",
    "    print('Tiene derecho a una bonificación!')\n",
    "    #calcula de nuevo el sueldo sumando la bonificación\n",
    "    sueldo = sueldo + (sueldo * 0.15)\n",
    "\n",
    "#imprime en pantalla la variable sueldo\n",
    "print('Su sueldo neto es: $', sueldo)"
   ]
  },
  {
   "cell_type": "markdown",
   "id": "24b98ce9",
   "metadata": {},
   "source": [
    "# Ejemplo No. 8\n",
    "## Programa que determina si un alumno ha aprobado una asignatura"
   ]
  },
  {
   "cell_type": "code",
   "execution_count": null,
   "id": "579ea2a7",
   "metadata": {},
   "outputs": [],
   "source": [
    "#Captura por teclado las tres notas parciales\n",
    "print('La primer nota vale el 30% de la nota final')\n",
    "#con float() permitimos ingresar números con decimales\n",
    "nota1 = float(input('Digite la primer nota: '))\n",
    "#Calcula el valor de la nota parcial\n",
    "nota1 = nota1 * 0.3\n",
    "\n",
    "print('La segunda nota vale el 30% de la nota final')\n",
    "nota2 = float(input('Digite la segunda nota: '))\n",
    "nota2 = nota2 * 0.3\n",
    "\n",
    "print('La tercer nota vale el 40% de la nota final')\n",
    "nota3 = float(input('Digite la tercer nota: '))\n",
    "nota3 = nota3 * 0.4\n",
    "\n",
    "#la nota final es la suma las tres notas\n",
    "notaFinal = nota1 + nota2 + nota3\n",
    "\n",
    "#Comprueba si la nota final es mayor o igual a 3\n",
    "if notaFinal >= 3:\n",
    "    #si cumple la condición, aprueba la asignatura\n",
    "    print('Usted ha aprobado la asignatura de programación')\n",
    "#en caso contrario, imprime un no aprobado\n",
    "else:\n",
    "    print('Lamentablemente, no ha aprobado la asignatura')"
   ]
  },
  {
   "cell_type": "markdown",
   "id": "cc73693e",
   "metadata": {},
   "source": [
    "# Ejemplo No. 9\n",
    "## Programa que determina si una persona es niña, joven, adulta o de la tercera edad"
   ]
  },
  {
   "cell_type": "code",
   "execution_count": 1,
   "id": "0d1f99fb",
   "metadata": {},
   "outputs": [
    {
     "name": "stdout",
     "output_type": "stream",
     "text": [
      "Cual es su edad: 12\n",
      "Usted es un niño\n"
     ]
    }
   ],
   "source": [
    "edad = int(input('Cual es su edad: '))\n",
    "if edad >= 65:\n",
    "    print('Usted es de la tercera edad')\n",
    "elif edad >= 30:\n",
    "    print('Usted es un adulto')\n",
    "elif edad >= 18:\n",
    "    print('Usted es un joven adulto')\n",
    "else:\n",
    "    print('Usted es un niño')"
   ]
  },
  {
   "cell_type": "markdown",
   "id": "d456fdeb",
   "metadata": {},
   "source": [
    "# Ejemplo No. 10\n",
    "## Programa que imprime un menú y pide que se elija una opción"
   ]
  },
  {
   "cell_type": "code",
   "execution_count": 11,
   "id": "60e089fe",
   "metadata": {},
   "outputs": [
    {
     "name": "stdout",
     "output_type": "stream",
     "text": [
      "1. Ingrese nombre de cliente: \n",
      "2. Ingrese numero de cedula: \n",
      "3. Ingresa numero de telefono: \n",
      "Elija una opcion: 4\n"
     ]
    },
    {
     "data": {
      "text/plain": [
       "4"
      ]
     },
     "execution_count": 11,
     "metadata": {},
     "output_type": "execute_result"
    }
   ],
   "source": [
    "print('1. Ingrese nombre de cliente: ')\n",
    "print('2. Ingrese numero de cedula: ')\n",
    "print('3. Ingresa numero de telefono: ')\n",
    "\n",
    "opcion = int(input('Elija una opcion: '))\n",
    "print('Usted ha elegido la opción', opcion)"
   ]
  },
  {
   "cell_type": "markdown",
   "id": "88e44f8c",
   "metadata": {},
   "source": [
    "# Ejemplo No. 11\n",
    "## Programa que imprime un menú de opciones y captura la elección del usuario a través del teclado"
   ]
  },
  {
   "cell_type": "code",
   "execution_count": null,
   "id": "7701760e",
   "metadata": {},
   "outputs": [],
   "source": [
    "#imprime menú en pantalla\n",
    "print('1. Ingresar datos personales')\n",
    "print('2. Ingresar datos financieros')\n",
    "print('3. Ingresar datos educativos')\n",
    "print('4. Ingresar datos familiares')\n",
    "print('5. Salir del programa')\n",
    "\n",
    "#captura por teclado la opción elegida por el usuario\n",
    "opcion = int(input('Elija una opción de su preferencia: '))\n",
    "\n",
    "#si la opcion se encuentra dentro del rango de 1 a 5\n",
    "if opcion > 0 and opcion < 5:\n",
    "    #segun el valor de la opción imprime un mensaje\n",
    "    if opcion == 1:\n",
    "        print('Bienvenido al menú de datos personales')\n",
    "    elif opcion == 2:\n",
    "        print('Bienvenido al menú de datos financieros')\n",
    "    elif opcion == 3:\n",
    "        print('Bienvenido al menú de datos educativos')\n",
    "    elif opcion == 4:\n",
    "        print('Bienvenido al menú de datos familiares')\n",
    "    else:\n",
    "        print('Hasta pronto! ')\n",
    "else:\n",
    "    print('No es una opcion válida')"
   ]
  },
  {
   "cell_type": "markdown",
   "id": "1fe4943b",
   "metadata": {},
   "source": [
    "# Ejemplo No. 12\n",
    "## Programa que simula un inicio de sesión en un sistema verificando el nombre de usuario y la contraseña"
   ]
  },
  {
   "cell_type": "code",
   "execution_count": 7,
   "id": "8e264862",
   "metadata": {},
   "outputs": [
    {
     "name": "stdout",
     "output_type": "stream",
     "text": [
      "Bienvenido al programa de gestion de clientes\n",
      "Cual es su nombre de usuario: Hector\n",
      "Usuario correcto\n",
      "Digite su clave: unodostres\n",
      "Clave incorrecta\n"
     ]
    }
   ],
   "source": [
    "#Guarda datos de nombre de usuario y contraseña\n",
    "usuarioGuardado = 'Alejandro'\n",
    "claveUsuario = '123'\n",
    "\n",
    "#captura por teclado el nombre de usuario\n",
    "usuario = input('Cual es su nombre de usuario: ')\n",
    "\n",
    "#verifica si el dato ingresado es igual al guardado\n",
    "if usuario == usuarioGuardado:\n",
    "    #si son iguales imprime un mensaje\n",
    "    print('Usuario correcto')\n",
    "    \n",
    "    #pide la clave de usuario\n",
    "    clave = input('Digite su clave: ')\n",
    "    \n",
    "    #verifica si clave ingresada es correcta\n",
    "    if clave == claveUsuario:\n",
    "        print('Sesión iniciada')\n",
    "    else:\n",
    "        print('Clave incorrecta')    \n",
    "\n",
    "#si los nombres de usuario no coindiden imprime:\n",
    "else:\n",
    "    print('Usuario incorrecto')"
   ]
  },
  {
   "cell_type": "code",
   "execution_count": null,
   "id": "8e794904",
   "metadata": {},
   "outputs": [],
   "source": []
  }
 ],
 "metadata": {
  "kernelspec": {
   "display_name": "Python 3 (ipykernel)",
   "language": "python",
   "name": "python3"
  },
  "language_info": {
   "codemirror_mode": {
    "name": "ipython",
    "version": 3
   },
   "file_extension": ".py",
   "mimetype": "text/x-python",
   "name": "python",
   "nbconvert_exporter": "python",
   "pygments_lexer": "ipython3",
   "version": "3.11.5"
  }
 },
 "nbformat": 4,
 "nbformat_minor": 5
}
